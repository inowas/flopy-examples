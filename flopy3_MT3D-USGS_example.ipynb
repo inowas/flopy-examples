{
 "cells": [
  {
   "cell_type": "markdown",
   "metadata": {},
   "source": [
    "# FloPy\n",
    "\n",
    "### MT3D-USGS Example\n",
    "\n",
    "Demonstrates functionality of the flopy MT3D-USGS module using the 'Crank-Nicolson' example distributed with MT3D-USGS.  \n",
    "\n",
    "#### Problem description:\n",
    "\n",
    "* Grid dimensions: 1 Layer, 3 Rows, 650 Columns\n",
    "* Stress periods: 3\n",
    "* Units are in seconds and meters\n",
    "* Flow package: UPW\n",
    "* Stress packages: SFR, GHB\n",
    "* Solvers: NWT, GCG"
   ]
  },
  {
   "cell_type": "code",
   "execution_count": 1,
   "metadata": {},
   "outputs": [
    {
     "name": "stdout",
     "output_type": "stream",
     "text": [
      "3.5.2 (default, Nov 23 2017, 16:37:01) \n",
      "[GCC 5.4.0 20160609]\n",
      "numpy version: 1.14.5\n",
      "matplotlib version: 2.2.2\n",
      "flopy version: 3.2.9\n"
     ]
    }
   ],
   "source": [
    "%matplotlib inline\n",
    "import sys\n",
    "import os\n",
    "import platform\n",
    "import string\n",
    "from io import StringIO, BytesIO\n",
    "import math\n",
    "import numpy as np\n",
    "import matplotlib as mpl\n",
    "import matplotlib.pyplot as plt\n",
    "\n",
    "# run installed version of flopy or add local path\n",
    "try:\n",
    "    import flopy\n",
    "except:\n",
    "    fpth = os.path.abspath(os.path.join('..', '..'))\n",
    "    sys.path.append(fpth)\n",
    "    import flopy\n",
    "\n",
    "print(sys.version)\n",
    "print('numpy version: {}'.format(np.__version__))\n",
    "print('matplotlib version: {}'.format(mpl.__version__))\n",
    "print('flopy version: {}'.format(flopy.__version__))"
   ]
  },
  {
   "cell_type": "code",
   "execution_count": 2,
   "metadata": {},
   "outputs": [],
   "source": [
    "modelpth = os.path.join('data')\n",
    "modelname = 'CrnkNic'\n",
    "mfexe = 'mfnwt'\n",
    "mtexe = 'mt3dusgs'\n",
    "if platform.system() == 'Windows':\n",
    "    mfexe += '.exe'\n",
    "    mtexe += '.exe'\n",
    "\n",
    "# Make sure modelpth directory exists\n",
    "if not os.path.exists(modelpth):\n",
    "    os.mkdir(modelpth)\n",
    "\n",
    "# Instantiate MODFLOW object in flopy\n",
    "mf = flopy.modflow.Modflow(modelname=modelname, exe_name=mfexe, model_ws=modelpth, version='mfnwt')"
   ]
  },
  {
   "cell_type": "markdown",
   "metadata": {
    "collapsed": true
   },
   "source": [
    "Set up model discretization"
   ]
  },
  {
   "cell_type": "code",
   "execution_count": 3,
   "metadata": {},
   "outputs": [],
   "source": [
    "Lx = 650.0 \n",
    "Ly = 15\n",
    "nrow = 3\n",
    "ncol = 650\n",
    "nlay = 1\n",
    "\n",
    "delr = Lx / ncol\n",
    "delc = Ly / nrow\n",
    "\n",
    "xmax = ncol * delr\n",
    "ymax = nrow * delc\n",
    "\n",
    "X, Y = np.meshgrid(np.linspace(delr / 2, xmax - delr / 2, ncol),    \n",
    "                   np.linspace(ymax - delc / 2, 0 + delc / 2, nrow))\n"
   ]
  },
  {
   "cell_type": "markdown",
   "metadata": {},
   "source": [
    "Instantiate output control (oc) package for MODFLOW-NWT"
   ]
  },
  {
   "cell_type": "code",
   "execution_count": 4,
   "metadata": {},
   "outputs": [],
   "source": [
    "# Output Control: Create a flopy output control object\n",
    "oc = flopy.modflow.ModflowOc(mf)                      "
   ]
  },
  {
   "cell_type": "markdown",
   "metadata": {},
   "source": [
    "Instantiate solver package for MODFLOW-NWT"
   ]
  },
  {
   "cell_type": "code",
   "execution_count": 5,
   "metadata": {},
   "outputs": [],
   "source": [
    "# Newton-Rhapson Solver: Create a flopy nwt package object\n",
    "\n",
    "headtol = 1.0E-4 \n",
    "fluxtol = 5      \n",
    "maxiterout = 5000\n",
    "thickfact = 1E-06\n",
    "linmeth = 2      \n",
    "iprnwt = 1       \n",
    "ibotav = 1       \n",
    "\n",
    "nwt = flopy.modflow.ModflowNwt(mf, headtol=headtol, fluxtol=fluxtol, maxiterout=maxiterout,       \n",
    "                               thickfact=thickfact, linmeth=linmeth, iprnwt=iprnwt, ibotav=ibotav,\n",
    "                               options='SIMPLE')                                          \n"
   ]
  },
  {
   "cell_type": "markdown",
   "metadata": {},
   "source": [
    "Instantiate discretization (DIS) package for MODFLOW-NWT"
   ]
  },
  {
   "cell_type": "code",
   "execution_count": 6,
   "metadata": {},
   "outputs": [],
   "source": [
    "# The equations for calculating the ground elevation in the 1 Layer CrnkNic model.  \n",
    "# Although Y isn't used, keeping it here for symetry\n",
    "\n",
    "def topElev(X, Y):\n",
    "    return 100. - (np.ceil(X)-1) * 0.03\n",
    "\n",
    "grndElev = topElev(X, Y)\n",
    "bedRockElev = grndElev - 3.\n",
    "\n",
    "Steady = [False, False, False]                                                                  \n",
    "nstp = [1, 1, 1]                                                                        \n",
    "tsmult = [1., 1., 1.]\n",
    "\n",
    "# Stress periods extend from (12AM-8:29:59AM); (8:30AM-11:30:59AM); (11:31AM-23:59:59PM)\n",
    "perlen = [30600, 10800, 45000]                                                                    \n",
    "                                                                                       \n",
    "# Create the discretization object\n",
    "# itmuni = 1 (seconds); lenuni = 2 (meters)\n",
    "dis = flopy.modflow.ModflowDis(mf, nlay, nrow, ncol, nper=3, delr=delr, delc=delc,     \n",
    "                               top=grndElev, botm=bedRockElev, laycbd=0, itmuni=1, lenuni=2,\n",
    "                               steady=Steady, nstp=nstp, tsmult=tsmult, perlen=perlen) \n"
   ]
  },
  {
   "cell_type": "markdown",
   "metadata": {},
   "source": [
    "Instantiate upstream weighting (UPW) flow package for MODFLOW-NWT"
   ]
  },
  {
   "cell_type": "code",
   "execution_count": 7,
   "metadata": {},
   "outputs": [],
   "source": [
    "# UPW parameters \n",
    "# UPW must be instantiated after DIS.  Otherwise, during the mf.write_input() procedures,   \n",
    "# flopy will crash.\n",
    "\n",
    "\n",
    "laytyp = 1   \n",
    "layavg = 2   \n",
    "chani = 1.0  \n",
    "layvka = 1\n",
    "iphdry = 0\n",
    "hk = 0.1\n",
    "hani = 1\n",
    "vka = 1.\n",
    "ss = 0.000001\n",
    "sy = 0.20\n",
    "hdry = -888\n",
    "\n",
    "upw = flopy.modflow.ModflowUpw(mf, laytyp=laytyp, layavg=layavg, chani=chani, layvka=layvka,\n",
    "                               ipakcb=53, hdry=hdry, iphdry=iphdry, hk=hk, hani=hani,\n",
    "                               vka=vka, ss=ss, sy=sy)\n",
    "                                 \n"
   ]
  },
  {
   "cell_type": "markdown",
   "metadata": {},
   "source": [
    "Instantiate basic (BAS or BA6) package for MODFLOW-NWT"
   ]
  },
  {
   "cell_type": "code",
   "execution_count": 8,
   "metadata": {},
   "outputs": [],
   "source": [
    "# Create a flopy basic package object                                               \n",
    "def calc_strtElev(X, Y):             \n",
    "    return 99.5 - (np.ceil(X)-1) * 0.0001\n",
    "\n",
    "ibound = np.ones((nlay, nrow, ncol))\n",
    "ibound[:,0,:] *= -1\n",
    "ibound[:,2,:] *= -1\n",
    "\n",
    "strtElev = calc_strtElev(X, Y)\n",
    "\n",
    "bas = flopy.modflow.ModflowBas(mf, ibound=ibound, hnoflo=hdry, strt=strtElev)\n"
   ]
  },
  {
   "cell_type": "markdown",
   "metadata": {},
   "source": [
    "Instantiate streamflow routing (SFR2) package for MODFLOW-NWT"
   ]
  },
  {
   "cell_type": "code",
   "execution_count": 9,
   "metadata": {},
   "outputs": [
    {
     "name": "stderr",
     "output_type": "stream",
     "text": [
      "/usr/local/lib/python3.5/dist-packages/numpy/core/records.py:513: FutureWarning: Numpy has detected that you may be viewing or writing to an array returned by selecting multiple fields in a structured array. \n",
      "\n",
      "This code may break in numpy 1.15 because this will return a view instead of a copy -- see release notes for details.\n",
      "  return obj.view(dtype=(self.dtype.type, obj.dtype))\n"
     ]
    }
   ],
   "source": [
    "# Streamflow Routing Package: Try and set up with minimal options in use\n",
    "# 9 11 IFACE # Data Set 1: ISTCB1  ISTCB2\n",
    "\n",
    "nstrm = ncol  \n",
    "nss = 6       \n",
    "const = 1.0   \n",
    "dleak = 0.0001\n",
    "istcb1 = -10  \n",
    "istcb2 = 11   \n",
    "isfropt = 1   \n",
    "\n",
    "segment_data = None\n",
    "channel_geometry_data = None\n",
    "channel_flow_data = None\n",
    "dataset_5 = None\n",
    "reachinput = True\n",
    "\n",
    "\n",
    "# The next couple of lines set up the reach_data for the 30x100 hypothetical model.\n",
    "# Will need to adjust the row based on which grid discretization we're doing.\n",
    "# Ensure that the stream goes down one of the middle rows of the model.\n",
    "\n",
    "strmBed_Elev = 98.75 - (np.ceil(X[1,:])-1) * 0.0001\n",
    "\n",
    "s1 = 'k,i,j,iseg,ireach,rchlen,strtop,slope,strthick,strhc1\\n'\n",
    "iseg = 0\n",
    "irch = 0\n",
    "\n",
    "for y in range(ncol):\n",
    "    if y <= 37:\n",
    "        if iseg == 0:\n",
    "            irch = 1\n",
    "        else:\n",
    "            irch += 1\n",
    "        iseg = 1\n",
    "        strhc1 = 1.0e-10\n",
    "    elif y <= 104:\n",
    "        if iseg == 1:\n",
    "            irch = 1\n",
    "        else:\n",
    "            irch += 1\n",
    "        iseg = 2\n",
    "        strhc1 = 1.0e-10\n",
    "    elif y <= 280:\n",
    "        if iseg == 2:\n",
    "            irch = 1\n",
    "        else:\n",
    "            irch += 1\n",
    "        iseg = 3\n",
    "        strhc1 = 2.946219199e-6\n",
    "    elif y <= 432:\n",
    "        if iseg == 3:\n",
    "            irch = 1\n",
    "        else:\n",
    "            irch += 1\n",
    "        iseg = 4\n",
    "        strhc1 = 1.375079882e-6\n",
    "    elif y <= 618:\n",
    "        if iseg == 4:\n",
    "            irch = 1\n",
    "        else:\n",
    "            irch += 1\n",
    "        iseg = 5\n",
    "        strhc1 = 1.764700062e-6\n",
    "    else:\n",
    "        if iseg == 5:\n",
    "            irch = 1\n",
    "        else:\n",
    "            irch += 1\n",
    "        iseg = 6\n",
    "        strhc1 = 1e-10\n",
    "    \n",
    "    # remember that lay, row, col need to be zero-based and are adjusted accordingly by flopy\n",
    "    #    layer +  row      +      col     +       iseg      +      irch      +     rchlen      +            strtop          +       slope       +     strthick    +     strmbed K\n",
    "    s1 += '0,{}'.format(1)\n",
    "    s1 += ',{}'.format(y)\n",
    "    s1 += ',{}'.format(iseg)\n",
    "    s1 += ',{}'.format(irch)\n",
    "    s1 += ',{}'.format(delr)\n",
    "    s1 += ',{}'.format(strmBed_Elev[y])\n",
    "    s1 += ',{}'.format(0.0001)\n",
    "    s1 += ',{}'.format(0.50)\n",
    "    s1 += ',{}\\n'.format(strhc1)\n",
    "\n",
    "\n",
    "if not os.path.exists('data'):\n",
    "    os.mkdir('data')\n",
    "\n",
    "fpth = os.path.join('data', 's1.csv')\n",
    "f = open(fpth, 'w')\n",
    "f.write(s1)\n",
    "f.close()\n",
    "\n",
    "dtype = [('k', '<i4'), ('i', '<i4'), ('j', '<i4'), ('iseg', '<i4'), \n",
    "         ('ireach', '<f8'), ('rchlen', '<f8'), ('strtop', '<f8'), \n",
    "         ('slope', '<f8'), ('strthick', '<f8'), ('strhc1', '<f8')]\n",
    "\n",
    "if (sys.version_info > (3, 0)):\n",
    "    f = open(fpth, 'rb')\n",
    "else:\n",
    "    f = open(fpth, 'r')\n",
    "\n",
    "reach_data = np.genfromtxt(f, delimiter=',', names=True, dtype=dtype)\n",
    "f.close()\n",
    "\n",
    "s2 = \"nseg,icalc,outseg,iupseg,nstrpts,   flow,runoff,etsw,pptsw,        roughch,        roughbk,cdpth,fdpth,awdth,bwdth,width1,width2\\n \\\n",
    "      1,    1,     2,     0,      0, 0.0125,   0.0, 0.0,  0.0, 0.082078856000, 0.082078856000,  0.0,  0.0,  0.0,  0.0,   1.5,   1.5\\n \\\n",
    "      2,    1,     3,     0,      0,    0.0,   0.0, 0.0,  0.0, 0.143806300000, 0.143806300000,  0.0,  0.0,  0.0,  0.0,   1.5,   1.5\\n \\\n",
    "      3,    1,     4,     0,      0,    0.0,   0.0, 0.0,  0.0, 0.104569661821, 0.104569661821,  0.0,  0.0,  0.0,  0.0,   1.5,   1.5\\n \\\n",
    "      4,    1,     5,     0,      0,    0.0,   0.0, 0.0,  0.0, 0.126990045841, 0.126990045841,  0.0,  0.0,  0.0,  0.0,   1.5,   1.5\\n \\\n",
    "      5,    1,     6,     0,      0,    0.0,   0.0, 0.0,  0.0, 0.183322283828, 0.183322283828,  0.0,  0.0,  0.0,  0.0,   1.5,   1.5\\n \\\n",
    "      6,    1,     0,     0,      0,    0.0,   0.0, 0.0,  0.0, 0.183322283828, 0.183322283828,  0.0,  0.0,  0.0,  0.0,   1.5,   1.5\"\n",
    "\n",
    "fpth = os.path.join('data', 's2.csv')\n",
    "f = open(fpth, 'w')\n",
    "f.write(s2)\n",
    "f.close()\n",
    "\n",
    "if (sys.version_info > (3, 0)):\n",
    "    f = open(fpth, 'rb')\n",
    "else:\n",
    "    f = open(fpth, 'r')\n",
    "\n",
    "segment_data = np.genfromtxt(f, delimiter=',',names=True)\n",
    "f.close()\n",
    "\n",
    "# Be sure to convert segment_data to a dictionary keyed on stress period.\n",
    "segment_data = np.atleast_1d(segment_data)                                                                                                                                                   \n",
    "segment_data = {0: segment_data,                                                                                                                                                             \n",
    "                1: segment_data,\n",
    "                2: segment_data}\n",
    "                                                                                                                                                                                             \n",
    "# There are 3 stress periods\n",
    "dataset_5 = {0: [nss, 0, 0],\n",
    "             1: [nss, 0, 0],\n",
    "             2: [nss, 0, 0]}\n",
    " \n",
    "sfr = flopy.modflow.ModflowSfr2(mf, nstrm=nstrm, nss=nss, const=const, dleak=dleak, isfropt=isfropt, istcb2=0,\n",
    "                                reachinput=True, reach_data=reach_data, dataset_5=dataset_5,\n",
    "                                segment_data=segment_data, channel_geometry_data=channel_geometry_data)\n"
   ]
  },
  {
   "cell_type": "markdown",
   "metadata": {},
   "source": [
    "Instantiate gage package for use with MODFLOW-NWT package"
   ]
  },
  {
   "cell_type": "code",
   "execution_count": 10,
   "metadata": {},
   "outputs": [],
   "source": [
    "gages = [[1,38,61,1],[2,67,62,1], [3,176,63,1], [4,152,64,1], [5,186,65,1], [6,31,66,1]]\n",
    "files = ['CrnkNic.gage','CrnkNic.gag1','CrnkNic.gag2','CrnkNic.gag3','CrnkNic.gag4','CrnkNic.gag5',\n",
    "         'CrnkNic.gag6']\n",
    "gage = flopy.modflow.ModflowGage(mf, numgage=6, gage_data=gages, filenames = files)"
   ]
  },
  {
   "cell_type": "markdown",
   "metadata": {},
   "source": [
    "Instantiate linkage with mass transport routing (LMT) package for MODFLOW-NWT (generates linker file)"
   ]
  },
  {
   "cell_type": "code",
   "execution_count": 11,
   "metadata": {},
   "outputs": [],
   "source": [
    "lmt = flopy.modflow.ModflowLmt(mf, output_file_name='CrnkNic.ftl', output_file_header='extended',\n",
    "                               output_file_format='formatted', package_flows = ['sfr'])"
   ]
  },
  {
   "cell_type": "markdown",
   "metadata": {},
   "source": [
    "Write the MODFLOW input files"
   ]
  },
  {
   "cell_type": "code",
   "execution_count": 12,
   "metadata": {},
   "outputs": [
    {
     "name": "stdout",
     "output_type": "stream",
     "text": [
      "/media/psf/Projekte/inowas/flopy-examples\n",
      "FloPy is using the following executable to run the model: /usr/local/bin/mfnwt\n",
      "\n",
      "                                  MODFLOW-NWT-SWR1 \n",
      "    U.S. GEOLOGICAL SURVEY MODULAR FINITE-DIFFERENCE GROUNDWATER-FLOW MODEL\n",
      "                             WITH NEWTON FORMULATION\n",
      "                             Version 1.1.4 4/01/2018                         \n",
      "                    BASED ON MODFLOW-2005 Version 1.12.0 02/03/2017                       \n",
      "\n",
      "                    SWR1 Version 1.04.0 09/15/2016                       \n",
      "\n",
      " Using NAME file: CrnkNic.nam \n",
      " Run start date and time (yyyy/mm/dd hh:mm:ss): 2018/09/05 10:15:41\n",
      "\n",
      " Solving:  Stress period:     1    Time step:     1    Groundwater-Flow Eqn.\n",
      " Solving:  Stress period:     2    Time step:     1    Groundwater-Flow Eqn.\n",
      " Solving:  Stress period:     3    Time step:     1    Groundwater-Flow Eqn.\n",
      " Run end date and time (yyyy/mm/dd hh:mm:ss): 2018/09/05 10:15:41\n",
      " Elapsed run time:  0.074 Seconds\n",
      "\n",
      "  Normal termination of simulation\n"
     ]
    },
    {
     "name": "stderr",
     "output_type": "stream",
     "text": [
      "/usr/local/lib/python3.5/dist-packages/numpy/core/records.py:513: FutureWarning: Numpy has detected that you may be viewing or writing to an array returned by selecting multiple fields in a structured array. \n",
      "\n",
      "This code may break in numpy 1.15 because this will return a view instead of a copy -- see release notes for details.\n",
      "  return obj.view(dtype=(self.dtype.type, obj.dtype))\n"
     ]
    },
    {
     "data": {
      "text/plain": [
       "(True, [])"
      ]
     },
     "execution_count": 12,
     "metadata": {},
     "output_type": "execute_result"
    }
   ],
   "source": [
    "pth = os.getcwd()\n",
    "print(pth)\n",
    "\n",
    "mf.write_input()\n",
    "\n",
    "# run the model\n",
    "mf.run_model()"
   ]
  },
  {
   "cell_type": "markdown",
   "metadata": {},
   "source": [
    "Now draft up MT3D-USGS input files.  "
   ]
  },
  {
   "cell_type": "code",
   "execution_count": 13,
   "metadata": {},
   "outputs": [],
   "source": [
    "# Instantiate MT3D-USGS object in flopy\n",
    "mt = flopy.mt3d.Mt3dms(modflowmodel=mf, modelname=modelname, model_ws=modelpth,\n",
    "                       version='mt3d-usgs', namefile_ext='mtnam', exe_name=mtexe,\n",
    "                       ftlfilename='CrnkNic.ftl', ftlfree=True)"
   ]
  },
  {
   "cell_type": "markdown",
   "metadata": {},
   "source": [
    "Instantiate basic transport (BTN) package for MT3D-USGS"
   ]
  },
  {
   "cell_type": "code",
   "execution_count": 14,
   "metadata": {},
   "outputs": [],
   "source": [
    "btn = flopy.mt3d.Mt3dBtn(mt, sconc=3.7, ncomp=1, prsity=0.2, cinact=-1.0, \n",
    "                         thkmin=0.001, nprs=-1, nprobs=10, chkmas=True, \n",
    "                         nprmas=10, dt0=180, mxstrn=2500)"
   ]
  },
  {
   "cell_type": "markdown",
   "metadata": {},
   "source": [
    "Instantiate advection (ADV) package for MT3D-USGS"
   ]
  },
  {
   "cell_type": "code",
   "execution_count": 15,
   "metadata": {},
   "outputs": [],
   "source": [
    "adv = flopy.mt3d.Mt3dAdv(mt, mixelm=0, percel=1.00, mxpart=5000, nadvfd=1)"
   ]
  },
  {
   "cell_type": "markdown",
   "metadata": {},
   "source": [
    "Instatiate generalized conjugate gradient solver (GCG) package for MT3D-USGS"
   ]
  },
  {
   "cell_type": "code",
   "execution_count": 16,
   "metadata": {},
   "outputs": [],
   "source": [
    "rct = flopy.mt3d.Mt3dRct(mt,isothm=0,ireact=100,igetsc=0,rc1=0.01)"
   ]
  },
  {
   "cell_type": "code",
   "execution_count": 17,
   "metadata": {},
   "outputs": [],
   "source": [
    "gcg = flopy.mt3d.Mt3dGcg(mt, mxiter=10, iter1=50, isolve=3, ncrs=0,\n",
    "                   accl=1, cclose=1e-6, iprgcg=1)"
   ]
  },
  {
   "cell_type": "markdown",
   "metadata": {},
   "source": [
    "Instantiate source-sink mixing (SSM) package for MT3D-USGS"
   ]
  },
  {
   "cell_type": "code",
   "execution_count": 18,
   "metadata": {},
   "outputs": [
    {
     "ename": "AssertionError",
     "evalue": "MfList error: ndarray shape (1300, 7) doesn't match dtype len: 5",
     "output_type": "error",
     "traceback": [
      "\u001b[0;31m---------------------------------------------------------------------------\u001b[0m",
      "\u001b[0;31mAssertionError\u001b[0m                            Traceback (most recent call last)",
      "\u001b[0;32m<ipython-input-18-04790b5d998f>\u001b[0m in \u001b[0;36m<module>\u001b[0;34m()\u001b[0m\n\u001b[1;32m     10\u001b[0m         \u001b[0mssm_data\u001b[0m\u001b[0;34m[\u001b[0m\u001b[0;36m0\u001b[0m\u001b[0;34m]\u001b[0m\u001b[0;34m.\u001b[0m\u001b[0mappend\u001b[0m\u001b[0;34m(\u001b[0m\u001b[0;34m(\u001b[0m\u001b[0;36m0\u001b[0m\u001b[0;34m,\u001b[0m \u001b[0mi\u001b[0m\u001b[0;34m,\u001b[0m \u001b[0mj\u001b[0m\u001b[0;34m,\u001b[0m \u001b[0;36m3.7\u001b[0m\u001b[0;34m,\u001b[0m \u001b[0mitype\u001b[0m\u001b[0;34m[\u001b[0m\u001b[0;34m'CHD'\u001b[0m\u001b[0;34m]\u001b[0m\u001b[0;34m,\u001b[0m \u001b[0;36m3.7\u001b[0m\u001b[0;34m,\u001b[0m \u001b[0;36m11.11\u001b[0m\u001b[0;34m)\u001b[0m\u001b[0;34m)\u001b[0m\u001b[0;34m\u001b[0m\u001b[0m\n\u001b[1;32m     11\u001b[0m \u001b[0;34m\u001b[0m\u001b[0m\n\u001b[0;32m---> 12\u001b[0;31m \u001b[0mssm\u001b[0m \u001b[0;34m=\u001b[0m \u001b[0mflopy\u001b[0m\u001b[0;34m.\u001b[0m\u001b[0mmt3d\u001b[0m\u001b[0;34m.\u001b[0m\u001b[0mMt3dSsm\u001b[0m\u001b[0;34m(\u001b[0m\u001b[0mmt\u001b[0m\u001b[0;34m,\u001b[0m \u001b[0mstress_period_data\u001b[0m\u001b[0;34m=\u001b[0m\u001b[0mssm_data\u001b[0m\u001b[0;34m)\u001b[0m\u001b[0;34m\u001b[0m\u001b[0m\n\u001b[0m",
      "\u001b[0;32m/usr/local/lib/python3.5/dist-packages/flopy/mt3d/mtssm.py\u001b[0m in \u001b[0;36m__init__\u001b[0;34m(self, model, crch, cevt, mxss, stress_period_data, dtype, extension, unitnumber, filenames, **kwargs)\u001b[0m\n\u001b[1;32m    216\u001b[0m             self.stress_period_data = MfList(self, model=model,\n\u001b[1;32m    217\u001b[0m                                              \u001b[0mdata\u001b[0m\u001b[0;34m=\u001b[0m\u001b[0mstress_period_data\u001b[0m\u001b[0;34m,\u001b[0m\u001b[0;34m\u001b[0m\u001b[0m\n\u001b[0;32m--> 218\u001b[0;31m                                              list_free_format=False)\n\u001b[0m\u001b[1;32m    219\u001b[0m \u001b[0;34m\u001b[0m\u001b[0m\n\u001b[1;32m    220\u001b[0m         \u001b[0;32mif\u001b[0m \u001b[0mmxss\u001b[0m \u001b[0;32mis\u001b[0m \u001b[0;32mNone\u001b[0m \u001b[0;32mand\u001b[0m \u001b[0mmf\u001b[0m \u001b[0;32mis\u001b[0m \u001b[0;32mNone\u001b[0m\u001b[0;34m:\u001b[0m\u001b[0;34m\u001b[0m\u001b[0m\n",
      "\u001b[0;32m/usr/local/lib/python3.5/dist-packages/flopy/utils/util_list.py\u001b[0m in \u001b[0;36m__init__\u001b[0;34m(self, package, data, dtype, model, list_free_format, binary)\u001b[0m\n\u001b[1;32m     83\u001b[0m         \u001b[0mself\u001b[0m\u001b[0;34m.\u001b[0m\u001b[0m__data\u001b[0m \u001b[0;34m=\u001b[0m \u001b[0;34m{\u001b[0m\u001b[0;34m}\u001b[0m\u001b[0;34m\u001b[0m\u001b[0m\n\u001b[1;32m     84\u001b[0m         \u001b[0;32mif\u001b[0m \u001b[0mdata\u001b[0m \u001b[0;32mis\u001b[0m \u001b[0;32mnot\u001b[0m \u001b[0;32mNone\u001b[0m\u001b[0;34m:\u001b[0m\u001b[0;34m\u001b[0m\u001b[0m\n\u001b[0;32m---> 85\u001b[0;31m             \u001b[0mself\u001b[0m\u001b[0;34m.\u001b[0m\u001b[0m__cast_data\u001b[0m\u001b[0;34m(\u001b[0m\u001b[0mdata\u001b[0m\u001b[0;34m)\u001b[0m\u001b[0;34m\u001b[0m\u001b[0m\n\u001b[0m\u001b[1;32m     86\u001b[0m         \u001b[0mself\u001b[0m\u001b[0;34m.\u001b[0m\u001b[0m__df\u001b[0m \u001b[0;34m=\u001b[0m \u001b[0;32mNone\u001b[0m\u001b[0;34m\u001b[0m\u001b[0m\n\u001b[1;32m     87\u001b[0m         \u001b[0mself\u001b[0m\u001b[0;34m.\u001b[0m\u001b[0mlist_free_format\u001b[0m \u001b[0;34m=\u001b[0m \u001b[0mlist_free_format\u001b[0m\u001b[0;34m\u001b[0m\u001b[0m\n",
      "\u001b[0;32m/usr/local/lib/python3.5/dist-packages/flopy/utils/util_list.py\u001b[0m in \u001b[0;36m__cast_data\u001b[0;34m(self, data)\u001b[0m\n\u001b[1;32m    292\u001b[0m                     \u001b[0mself\u001b[0m\u001b[0;34m.\u001b[0m\u001b[0m__cast_recarray\u001b[0m\u001b[0;34m(\u001b[0m\u001b[0mkper\u001b[0m\u001b[0;34m,\u001b[0m \u001b[0md\u001b[0m\u001b[0;34m)\u001b[0m\u001b[0;34m\u001b[0m\u001b[0m\n\u001b[1;32m    293\u001b[0m                 \u001b[0;32melif\u001b[0m \u001b[0misinstance\u001b[0m\u001b[0;34m(\u001b[0m\u001b[0md\u001b[0m\u001b[0;34m,\u001b[0m \u001b[0mnp\u001b[0m\u001b[0;34m.\u001b[0m\u001b[0mndarray\u001b[0m\u001b[0;34m)\u001b[0m\u001b[0;34m:\u001b[0m\u001b[0;34m\u001b[0m\u001b[0m\n\u001b[0;32m--> 294\u001b[0;31m                     \u001b[0mself\u001b[0m\u001b[0;34m.\u001b[0m\u001b[0m__cast_ndarray\u001b[0m\u001b[0;34m(\u001b[0m\u001b[0mkper\u001b[0m\u001b[0;34m,\u001b[0m \u001b[0md\u001b[0m\u001b[0;34m)\u001b[0m\u001b[0;34m\u001b[0m\u001b[0m\n\u001b[0m\u001b[1;32m    295\u001b[0m                 \u001b[0;32melif\u001b[0m \u001b[0misinstance\u001b[0m\u001b[0;34m(\u001b[0m\u001b[0md\u001b[0m\u001b[0;34m,\u001b[0m \u001b[0mint\u001b[0m\u001b[0;34m)\u001b[0m\u001b[0;34m:\u001b[0m\u001b[0;34m\u001b[0m\u001b[0m\n\u001b[1;32m    296\u001b[0m                     \u001b[0mself\u001b[0m\u001b[0;34m.\u001b[0m\u001b[0m__cast_int\u001b[0m\u001b[0;34m(\u001b[0m\u001b[0mkper\u001b[0m\u001b[0;34m,\u001b[0m \u001b[0md\u001b[0m\u001b[0;34m)\u001b[0m\u001b[0;34m\u001b[0m\u001b[0m\n",
      "\u001b[0;32m/usr/local/lib/python3.5/dist-packages/flopy/utils/util_list.py\u001b[0m in \u001b[0;36m__cast_ndarray\u001b[0;34m(self, kper, d)\u001b[0m\n\u001b[1;32m    353\u001b[0m                                                   \u001b[0;34m\" doesn't match dtype \"\u001b[0m \u001b[0;34m+\u001b[0m\u001b[0;31m \u001b[0m\u001b[0;31m\\\u001b[0m\u001b[0;34m\u001b[0m\u001b[0m\n\u001b[1;32m    354\u001b[0m                                                   \u001b[0;34m\"len: \"\u001b[0m \u001b[0;34m+\u001b[0m\u001b[0;31m \u001b[0m\u001b[0;31m\\\u001b[0m\u001b[0;34m\u001b[0m\u001b[0m\n\u001b[0;32m--> 355\u001b[0;31m                                                   \u001b[0mstr\u001b[0m\u001b[0;34m(\u001b[0m\u001b[0mlen\u001b[0m\u001b[0;34m(\u001b[0m\u001b[0mself\u001b[0m\u001b[0;34m.\u001b[0m\u001b[0mdtype\u001b[0m\u001b[0;34m)\u001b[0m\u001b[0;34m)\u001b[0m\u001b[0;34m\u001b[0m\u001b[0m\n\u001b[0m\u001b[1;32m    356\u001b[0m             \u001b[0;31m# warnings.warn(\"MfList: ndarray dtype does not match self \" +\\\u001b[0m\u001b[0;34m\u001b[0m\u001b[0;34m\u001b[0m\u001b[0m\n\u001b[1;32m    357\u001b[0m             \u001b[0;31m#               \"dtype, trying to cast\")\u001b[0m\u001b[0;34m\u001b[0m\u001b[0;34m\u001b[0m\u001b[0m\n",
      "\u001b[0;31mAssertionError\u001b[0m: MfList error: ndarray shape (1300, 7) doesn't match dtype len: 5"
     ]
    }
   ],
   "source": [
    "# For SSM, need to set the constant head boundary conditions to the ambient concentration\n",
    "# for all 1,300 constant head boundary cells.\n",
    "\n",
    "itype = flopy.mt3d.Mt3dSsm.itype_dict()\n",
    "ssm_data = {}\n",
    "ssm_data[0] = [(0, 0, 0, 3.7, itype['CHD'], 3.7, 11.11)]\n",
    "ssm_data[0].append((0, 2, 0, 3.7, itype['CHD'], 3.7, 11.11))\n",
    "for i in [0,2]:\n",
    "    for j in range(1, ncol):\n",
    "        ssm_data[0].append((0, i, j, 3.7, itype['CHD'], 3.7, 11.11))\n",
    "\n",
    "ssm = flopy.mt3d.Mt3dSsm(mt, stress_period_data=ssm_data)\n"
   ]
  },
  {
   "cell_type": "markdown",
   "metadata": {},
   "source": [
    "Instantiate streamflow transport (SFT) package for MT3D-USGS"
   ]
  },
  {
   "cell_type": "code",
   "execution_count": null,
   "metadata": {},
   "outputs": [],
   "source": [
    "dispsf = []\n",
    "for y in range(ncol):\n",
    "    if y <= 37:\n",
    "        dispsf.append(0.12)\n",
    "    elif y <= 104:\n",
    "        dispsf.append(0.15)\n",
    "    elif y <= 280:\n",
    "        dispsf.append(0.24)\n",
    "    elif y <= 432:\n",
    "        dispsf.append(0.31)\n",
    "    elif y <= 618:\n",
    "        dispsf.append(0.40)\n",
    "    else:\n",
    "        dispsf.append(0.40)\n",
    "\n",
    "# Enter a list of the observation points\n",
    "# Each observation is taken as the last reach within the first 5 segments\n",
    "\n",
    "seg_len = np.unique(reach_data['iseg'], return_counts=True)\n",
    "obs_sf = np.cumsum(seg_len[1])\n",
    "obs_sf = obs_sf.tolist()\n",
    "\n",
    "# The last reach is not an observation point, therefore drop\n",
    "obs_sf.pop(-1)\n",
    "\n",
    "# In the first and last stress periods, concentration at the headwater is 3.7\n",
    "sf_stress_period_data = {0: [0, 0, 3.7],\n",
    "                         1: [0, 0, 11.4],\n",
    "                         2: [0, 0, 3.7]}\n",
    "\n",
    "gage_output = [None, None, 'CrnkNic.sftobs']\n",
    "\n",
    "sft = flopy.mt3d.Mt3dSft(mt, nsfinit=650, mxsfbc=650, icbcsf=81, ioutobs=82,\n",
    "                         isfsolv=1, cclosesf=1.0E-6, mxitersf=10, crntsf=1.0, iprtxmd=0,\n",
    "                         coldsf=3.7, dispsf=dispsf, nobssf=5, obs_sf=obs_sf,\n",
    "                         sf_stress_period_data = sf_stress_period_data,\n",
    "                         filenames=gage_output)\n",
    "\n",
    "sft.dispsf[0].format.fortran = \"(10E15.6)\""
   ]
  },
  {
   "cell_type": "markdown",
   "metadata": {},
   "source": [
    "Write the MT3D-USGS input files"
   ]
  },
  {
   "cell_type": "code",
   "execution_count": null,
   "metadata": {},
   "outputs": [],
   "source": [
    "mt.write_input()\n",
    "\n",
    "# run the model\n",
    "mt.run_model()"
   ]
  },
  {
   "cell_type": "markdown",
   "metadata": {},
   "source": [
    "# Compare mt3d-usgs results to an analytical solution"
   ]
  },
  {
   "cell_type": "code",
   "execution_count": null,
   "metadata": {},
   "outputs": [],
   "source": [
    "# Define a function to read SFT output file\n",
    "def load_ts_from_SFT_output(fname, nd=1):\n",
    "    f=open(fname, 'r')\n",
    "    iline=0\n",
    "    lst = []\n",
    "    for line in f:\n",
    "        if line.strip().split()[0].replace(\".\", \"\", 1).isdigit():\n",
    "            l = line.strip().split()\n",
    "            t = float(l[0])\n",
    "            loc = int(l[1])\n",
    "            conc = float(l[2])\n",
    "            if(loc == nd):\n",
    "                lst.append( [t,conc] )\n",
    "                \n",
    "    ts = np.array(lst)\n",
    "    f.close()\n",
    "    return ts\n",
    "\n",
    "# Also define a function to read OTIS output file\n",
    "def load_ts_from_otis(fname, iobs=1):\n",
    "    f = open(fname,'r')\n",
    "    iline = 0\n",
    "    lst = []\n",
    "    for line in f:\n",
    "        l = line.strip().split()\n",
    "        t = float(l[0])\n",
    "        val = float(l[iobs])\n",
    "        lst.append( [t, val] )  \n",
    "    \n",
    "    ts = np.array(lst)\n",
    "    f.close()\n",
    "    return ts\n"
   ]
  },
  {
   "cell_type": "markdown",
   "metadata": {},
   "source": [
    "Load output from SFT as well as from the OTIS solution"
   ]
  },
  {
   "cell_type": "code",
   "execution_count": null,
   "metadata": {},
   "outputs": [],
   "source": [
    "# Model output\n",
    "fname_SFTout = os.path.join('data', 'CrnkNic.sftcobs.out')\n",
    "\n",
    "# Loading MT3D-USGS output\n",
    "ts1_mt3d = load_ts_from_SFT_output(fname_SFTout, nd=38) \n",
    "ts2_mt3d = load_ts_from_SFT_output(fname_SFTout, nd=105) \n",
    "ts3_mt3d = load_ts_from_SFT_output(fname_SFTout, nd=281)\n",
    "ts4_mt3d = load_ts_from_SFT_output(fname_SFTout, nd=433)\n",
    "ts5_mt3d = load_ts_from_SFT_output(fname_SFTout, nd=619)\n",
    "\n",
    "# OTIS results located here\n",
    "fname_OTIS = os.path.join('..', 'data', 'mt3d_test', 'mfnwt_mt3dusgs', 'sft_crnkNic', 'OTIS_solution.out')\n",
    "\n",
    "# Loading OTIS output\n",
    "ts1_Otis = load_ts_from_otis(fname_OTIS, 1)\n",
    "ts2_Otis = load_ts_from_otis(fname_OTIS, 2)\n",
    "ts3_Otis = load_ts_from_otis(fname_OTIS, 3)\n",
    "ts4_Otis = load_ts_from_otis(fname_OTIS, 4)\n",
    "ts5_Otis = load_ts_from_otis(fname_OTIS, 5)"
   ]
  },
  {
   "cell_type": "markdown",
   "metadata": {},
   "source": [
    "Set up some plotting functions"
   ]
  },
  {
   "cell_type": "code",
   "execution_count": null,
   "metadata": {},
   "outputs": [],
   "source": [
    "def set_plot_params():\n",
    "    import matplotlib as mpl\n",
    "    from matplotlib.font_manager import FontProperties\n",
    "    mpl.rcParams['font.sans-serif']          = 'Arial'\n",
    "    mpl.rcParams['font.serif']               = 'Times'\n",
    "    mpl.rcParams['font.cursive']             = 'Zapf Chancery'\n",
    "    mpl.rcParams['font.fantasy']             = 'Comic Sans MS'\n",
    "    mpl.rcParams['font.monospace']           = 'Courier New'\n",
    "    mpl.rcParams['pdf.compression']          = 0\n",
    "    mpl.rcParams['pdf.fonttype']             = 42\n",
    "    \n",
    "    ticksize = 10\n",
    "    mpl.rcParams['legend.fontsize']  = 7\n",
    "    mpl.rcParams['axes.labelsize']   = 12\n",
    "    mpl.rcParams['xtick.labelsize']  = ticksize\n",
    "    mpl.rcParams['ytick.labelsize']  = ticksize\n",
    "    return\n",
    "\n",
    "def set_sizexaxis(a,fmt,sz):\n",
    "    success = 0\n",
    "    x = a.get_xticks()\n",
    "#   print x\n",
    "    xc = np.chararray(len(x), itemsize=16)\n",
    "    for i in range(0,len(x)):\n",
    "        text = fmt % ( x[i] )\n",
    "        xc[i] = string.strip(string.ljust(text,16))\n",
    "#   print xc\n",
    "    a.set_xticklabels(xc, size=sz)\n",
    "    success = 1\n",
    "    return success\n",
    "\n",
    "def set_sizeyaxis(a,fmt,sz):\n",
    "    success = 0\n",
    "    y = a.get_yticks()\n",
    "#   print y\n",
    "    yc = np.chararray(len(y), itemsize=16)\n",
    "    for i in range(0,len(y)):\n",
    "        text = fmt % ( y[i] )\n",
    "        yc[i] = string.strip(string.ljust(text,16))\n",
    "#   print yc\n",
    "    a.set_yticklabels(yc, size=sz)\n",
    "    success = 1\n",
    "    return success\n"
   ]
  },
  {
   "cell_type": "markdown",
   "metadata": {},
   "source": [
    "Compare output:"
   ]
  },
  {
   "cell_type": "code",
   "execution_count": null,
   "metadata": {},
   "outputs": [],
   "source": [
    "#set up figure\n",
    "try:\n",
    "    plt.close('all')\n",
    "except:\n",
    "    pass\n",
    "\n",
    "set_plot_params()\n",
    "\n",
    "fig = plt.figure(figsize=(6, 4), facecolor='w')\n",
    "ax = fig.add_subplot(1, 1, 1)\n",
    "\n",
    "ax.plot(ts1_Otis[:,0], ts1_Otis[:,1], 'k-', linewidth=1.0)\n",
    "ax.plot(ts2_Otis[:,0], ts2_Otis[:,1], 'b-', linewidth=1.0)\n",
    "ax.plot(ts3_Otis[:,0], ts3_Otis[:,1], 'r-', linewidth=1.0)\n",
    "ax.plot(ts4_Otis[:,0], ts4_Otis[:,1], 'g-', linewidth=1.0)\n",
    "ax.plot(ts5_Otis[:,0], ts5_Otis[:,1], 'c-', linewidth=1.0)\n",
    "\n",
    "ax.plot((ts1_mt3d[:,0])/3600, ts1_mt3d[:,1], 'kD', markersize=2.0, mfc='none',mec='k')\n",
    "ax.plot((ts2_mt3d[:,0])/3600, ts2_mt3d[:,1], 'b*', markersize=3.0, mfc='none',mec='b')\n",
    "ax.plot((ts3_mt3d[:,0])/3600, ts3_mt3d[:,1], 'r+', markersize=3.0)\n",
    "ax.plot((ts4_mt3d[:,0])/3600, ts4_mt3d[:,1], 'g^', markersize=2.0, mfc='none',mec='g')\n",
    "ax.plot((ts5_mt3d[:,0])/3600, ts5_mt3d[:,1], 'co', markersize=2.0, mfc='none',mec='c')\n",
    "\n",
    "#customize plot\n",
    "ax.set_xlabel('Time, hours')\n",
    "ax.set_ylabel('Concentration, mg L-1')\n",
    "ax.set_ylim([3.5,13])\n",
    "ticksize = 10\n",
    "\n",
    "#legend\n",
    "leg = ax.legend(\n",
    "                (\n",
    "                 'Otis, Site 1', 'Otis, Site 2', 'Otis, Site 3', 'Otis, Site 4', 'Otis, Site 5',\n",
    "                 'MT3D-USGS, Site 1', 'MT3D-USGS, Site 2', 'MT3D-USGS, Site 3', 'MT3D-USGS, Site 4', 'MT3D-USGS, Site 5',\n",
    "                 ), \n",
    "                loc='upper right', labelspacing=0.25, columnspacing=1,\n",
    "                handletextpad=0.5, handlelength=2.0, numpoints=1)\n",
    "leg._drawFrame = False \n",
    "\n",
    "plt.show()"
   ]
  },
  {
   "cell_type": "code",
   "execution_count": null,
   "metadata": {},
   "outputs": [],
   "source": []
  }
 ],
 "metadata": {
  "anaconda-cloud": {},
  "kernelspec": {
   "display_name": "Python 3",
   "language": "python",
   "name": "python3"
  },
  "language_info": {
   "codemirror_mode": {
    "name": "ipython",
    "version": 3
   },
   "file_extension": ".py",
   "mimetype": "text/x-python",
   "name": "python",
   "nbconvert_exporter": "python",
   "pygments_lexer": "ipython3",
   "version": "3.5.2"
  }
 },
 "nbformat": 4,
 "nbformat_minor": 1
}
